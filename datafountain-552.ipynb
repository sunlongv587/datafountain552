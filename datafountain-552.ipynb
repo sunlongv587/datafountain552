{
 "cells": [
  {
   "cell_type": "code",
   "execution_count": 1,
   "id": "54d624d1",
   "metadata": {},
   "outputs": [
    {
     "name": "stdout",
     "output_type": "stream",
     "text": [
      "zsh:1: no such file or directory: /opt/bin/nvidia-smi\r\n"
     ]
    }
   ],
   "source": [
    "#@title 查看分配到的设备\n",
    "# 查看设备，是K80还是T4,如果是K80...！\n",
    "! /opt/bin/nvidia-smi"
   ]
  },
  {
   "cell_type": "code",
   "execution_count": 2,
   "id": "8ebbb22d",
   "metadata": {},
   "outputs": [
    {
     "ename": "ModuleNotFoundError",
     "evalue": "No module named 'google.colab'",
     "output_type": "error",
     "traceback": [
      "\u001b[0;31m---------------------------------------------------------------------------\u001b[0m",
      "\u001b[0;31mModuleNotFoundError\u001b[0m                       Traceback (most recent call last)",
      "\u001b[0;32m/var/folders/bk/nsbx3n053nv16z2k78rq91fw0000gn/T/ipykernel_25998/4138703455.py\u001b[0m in \u001b[0;36m<module>\u001b[0;34m\u001b[0m\n\u001b[1;32m      1\u001b[0m \u001b[0;31m#@title 挂载云盘\u001b[0m\u001b[0;34m\u001b[0m\u001b[0;34m\u001b[0m\u001b[0m\n\u001b[0;32m----> 2\u001b[0;31m \u001b[0;32mfrom\u001b[0m \u001b[0mgoogle\u001b[0m\u001b[0;34m.\u001b[0m\u001b[0mcolab\u001b[0m \u001b[0;32mimport\u001b[0m \u001b[0mdrive\u001b[0m\u001b[0;34m\u001b[0m\u001b[0;34m\u001b[0m\u001b[0m\n\u001b[0m\u001b[1;32m      3\u001b[0m \u001b[0mdrive\u001b[0m\u001b[0;34m.\u001b[0m\u001b[0mmount\u001b[0m\u001b[0;34m(\u001b[0m\u001b[0;34m'/content/drive'\u001b[0m\u001b[0;34m)\u001b[0m\u001b[0;34m\u001b[0m\u001b[0;34m\u001b[0m\u001b[0m\n",
      "\u001b[0;31mModuleNotFoundError\u001b[0m: No module named 'google.colab'"
     ]
    }
   ],
   "source": [
    "#@title 挂载云盘\n",
    "from google.colab import drive\n",
    "drive.mount('/content/drive')"
   ]
  },
  {
   "cell_type": "code",
   "execution_count": 3,
   "id": "e8de47db",
   "metadata": {},
   "outputs": [
    {
     "name": "stdout",
     "output_type": "stream",
     "text": [
      "[Errno 2] No such file or directory: '/content/drive/MyDrive/'\n",
      "/Users/sunlong/Codes/pythonProjects/datafountain552\n"
     ]
    }
   ],
   "source": [
    "#@title 初始化项目\n",
    "\n",
    "import os \n",
    "root = \"/content/drive/MyDrive/\" #@param {type:\"string\"}\n",
    "%cd $root\n",
    "!mkdir datafountain\n",
    "datafountain=os.path.join(root,\"datafountain-552\")\n",
    "workspace=os.path.join(datafountain,\"workspace\")\n",
    "dataset=os.path.join(datafountain,\"dataset\")"
   ]
  },
  {
   "cell_type": "code",
   "execution_count": null,
   "id": "a2eb3912",
   "metadata": {},
   "outputs": [],
   "source": [
    "online = True #@param {type:\"boolean\"}\n",
    "upload = \"data_src/aligned\" #@param [\"data_src/aligned\",\"data_dst/aligned\",\"model\",\"data_src\",\"data_dst\"]\n",
    "\n",
    "# 下载数据集\n",
    "%cd $datafountain\n",
    "!mkdir dataset\n",
    "%cd $dataset\n",
    "!curl -O https://awscdn.datafountain.cn/cometition_data2/Files/BDCI2021/552/train_dataset.zip\n",
    "!curl -O https://awscdn.datafountain.cn/cometition_data2/Files/BDCI2021/552/test_dataset.zip\n",
    "# 解压数据集\n",
    "!unzip train_dataset.zip\n",
    "!unzip test_dataset.zip\n",
    "# 下载代码\n",
    "!git clone https://github.com/sunlongv587/datafountain552.git\n"
   ]
  },
  {
   "cell_type": "code",
   "execution_count": null,
   "id": "dc54b54e",
   "metadata": {},
   "outputs": [],
   "source": [
    "# 查看系统信息\n",
    "!lsb_release -a\n",
    "# 查看CUDA版本\n",
    "!nvcc --version\n",
    "# 安装 pytorch (如果是CUDA-11.8)\n",
    "!pip3 install torch torchvision torchaudio --index-url https://download.pytorch.org/whl/cu118\n",
    "\n",
    "# 安装 yolov8\n",
    "!pip3 install ultralytics"
   ]
  },
  {
   "cell_type": "code",
   "execution_count": null,
   "id": "12fe2362",
   "metadata": {},
   "outputs": [],
   "source": [
    "# 处理数据集\n"
   ]
  }
 ],
 "metadata": {
  "kernelspec": {
   "display_name": "Python 3 (ipykernel)",
   "language": "python",
   "name": "python3"
  },
  "language_info": {
   "codemirror_mode": {
    "name": "ipython",
    "version": 3
   },
   "file_extension": ".py",
   "mimetype": "text/x-python",
   "name": "python",
   "nbconvert_exporter": "python",
   "pygments_lexer": "ipython3",
   "version": "3.9.13"
  }
 },
 "nbformat": 4,
 "nbformat_minor": 5
}
